{
 "cells": [
  {
   "cell_type": "markdown",
   "id": "7087b762",
   "metadata": {},
   "source": [
    "# Udacity project: Write a Data Science blog post\n",
    "## Analyzing the 2021 and 2018 Mexican Chamber of Deputies elections\n",
    "\n",
    "This project is a part of Udacity's Data Science Nanodegree, where I analyze the results of the 2021 and 2018 Mexican legislative elections with the purpose of effectively communicating technical results, and follows the CRISP-DM data science process."
   ]
  },
  {
   "cell_type": "markdown",
   "id": "69d88c91",
   "metadata": {},
   "source": [
    "# 1. Business Understanding"
   ]
  },
  {
   "cell_type": "markdown",
   "id": "ee7cbd99",
   "metadata": {},
   "source": [
    "For this project, I will be analyzing the results of the 2021 Mexican legislative midterm election for the 300 Chamber of Deputies districts, and comparing the outcome with the 2018 Mexican federal election.\n",
    "\n",
    "Mexico uses a mixed-member majoritarian system to elect the 500 members of the lower house of the Congress of the Union: **300 members competing in individual districts using a first-past-the-post electoral system**, and another 200 elected through proportional representation from five regional constituencies. Since the end result isn't strictly proportional, a consequence of complex rules preventing under- and over-representation, I will be limiting my analysis to the 300 FTPT districts.\n",
    "\n",
    "The 2018 Mexican federal election held contests for the presidency, the Chamber of Deputies (lower house), and the Senate (upper house), with the Morena party and its allies, the Labor Party (PT) and the Social Encounter Party (PES) winning the presidency and a majority in both chambers.\n",
    "\n",
    "The 2021 midterm elections renewed only the entirety of the Chamber of Deputies. Morena, the Labor Party, and their new allies the Green Party (PVEM) retained a slimmer majority. This election also marks the first time lawmakers were allowed to run for reelection.\n",
    "\n",
    "The datasets with election results and candidates were downloaded from the official website of the National Electoral Institute (INE): [2018 results](https://computos2018.ine.mx/#/diputaciones/nacional/1/3/1/1), [2021 results](https://computos2021.ine.mx/votos-distrito/mapa). In addition, I downloaded a shape file for the map of the country's territorial divisions from the [CONABIO](http://www.conabio.gob.mx/informacion/metadata/gis/destdv250k_2gw.xml?_xsl=/db/metadata/xsl/fgdc_html.xsl&_indent=no).\n",
    "\n",
    "**The purpose of this project is to answer the following three questions as related to the election results:**\n",
    "\n",
    "1. For the 2021 election, three of the main oppositon parties formed a united center-left to center-right coaltion to try to block Morena's continued electoral success; a fourth opposition party (Citizen's Movement (MC)) refused to join the alliance and participated alone. **What would have happened if all four opposition parties ran together against Morena in every one of the 300 FTPT districts?**\n",
    "2. **In which states did Morena lose or gain support in 2021 compared to the 2018 Chamber of Deputies election?**\n",
    "3. **Did parties benefit in 2021 from the new reelection rules by renominating incumbents compared to their results in open seats?**"
   ]
  },
  {
   "cell_type": "code",
   "execution_count": 1,
   "id": "90b28834",
   "metadata": {},
   "outputs": [],
   "source": [
    "import pandas as pd\n",
    "import numpy as np\n",
    "import seaborn as sns\n",
    "import matplotlib.pyplot as plt\n",
    "import geopandas as gpd"
   ]
  },
  {
   "cell_type": "markdown",
   "id": "56d7f305",
   "metadata": {},
   "source": [
    "# 2. Data Understanding\n",
    "\n",
    "Importing the datasets, inspecting the data for missing values, presenting descriptive statistics, visualizing distributions."
   ]
  },
  {
   "cell_type": "markdown",
   "id": "54d015a8",
   "metadata": {},
   "source": [
    "## Importing Datasets"
   ]
  },
  {
   "cell_type": "code",
   "execution_count": 2,
   "id": "519d64a7",
   "metadata": {},
   "outputs": [],
   "source": [
    "# Election results per parties for each of the legislative election cycles\n",
    "results_2021_df = pd.read_csv('data/2021/diputaciones.csv', sep=\"|\", encoding='latin-1', skiprows=6)\n",
    "results_2018_df = pd.read_csv('data/2018/diputaciones.csv', sep=\"|\", encoding='latin-1', skiprows=6, low_memory=False)"
   ]
  },
  {
   "cell_type": "code",
   "execution_count": 3,
   "id": "a5ebe2a8",
   "metadata": {},
   "outputs": [],
   "source": [
    "# Candidates for each of the legislative election cycles\n",
    "candidacies_2018_df = pd.read_csv('data/2018/diputaciones_candidaturas_2018.csv', sep=\"|\", encoding='latin-1', skiprows=1)\n",
    "candidacies_2021_df = pd.read_csv('data/2021/diputaciones_candidaturas_2021.csv', sep=\"|\", encoding='latin-1', skiprows=1)"
   ]
  },
  {
   "cell_type": "markdown",
   "id": "bd1b7d17",
   "metadata": {},
   "source": [
    "## 2021 Chamber of Deputies Election\n",
    "\n",
    "Inspecting the 2021 results data."
   ]
  },
  {
   "cell_type": "code",
   "execution_count": 4,
   "id": "ed5ce006",
   "metadata": {},
   "outputs": [
    {
     "data": {
      "text/html": [
       "<div>\n",
       "<style scoped>\n",
       "    .dataframe tbody tr th:only-of-type {\n",
       "        vertical-align: middle;\n",
       "    }\n",
       "\n",
       "    .dataframe tbody tr th {\n",
       "        vertical-align: top;\n",
       "    }\n",
       "\n",
       "    .dataframe thead th {\n",
       "        text-align: right;\n",
       "    }\n",
       "</style>\n",
       "<table border=\"1\" class=\"dataframe\">\n",
       "  <thead>\n",
       "    <tr style=\"text-align: right;\">\n",
       "      <th></th>\n",
       "      <th>TIPO_CANDIDATURA</th>\n",
       "      <th>ID_ESTADO</th>\n",
       "      <th>NOMBRE_ESTADO</th>\n",
       "      <th>ID_DISTRITO</th>\n",
       "      <th>NOMBRE_DISTRITO</th>\n",
       "      <th>PAN</th>\n",
       "      <th>PRI</th>\n",
       "      <th>PRD</th>\n",
       "      <th>PVEM</th>\n",
       "      <th>PT</th>\n",
       "      <th>MC</th>\n",
       "      <th>MORENA</th>\n",
       "      <th>PES</th>\n",
       "      <th>RSP</th>\n",
       "      <th>FXM</th>\n",
       "      <th>CANDIDATO/A NO REGISTRADO/A</th>\n",
       "      <th>VOTOS NULOS</th>\n",
       "      <th>TOTAL_VOTOS_CALCULADOS</th>\n",
       "      <th>FECHA_HORA</th>\n",
       "    </tr>\n",
       "  </thead>\n",
       "  <tbody>\n",
       "    <tr>\n",
       "      <th>0</th>\n",
       "      <td>RP</td>\n",
       "      <td>1</td>\n",
       "      <td>AGUASCALIENTES</td>\n",
       "      <td>1</td>\n",
       "      <td>JESUS MARIA</td>\n",
       "      <td>62687</td>\n",
       "      <td>23717</td>\n",
       "      <td>8034</td>\n",
       "      <td>11731</td>\n",
       "      <td>7696</td>\n",
       "      <td>6494</td>\n",
       "      <td>48317</td>\n",
       "      <td>3184</td>\n",
       "      <td>2208</td>\n",
       "      <td>9231</td>\n",
       "      <td>-</td>\n",
       "      <td>-</td>\n",
       "      <td>190528</td>\n",
       "      <td>13/06/2021 08:06:55</td>\n",
       "    </tr>\n",
       "    <tr>\n",
       "      <th>1</th>\n",
       "      <td>RP</td>\n",
       "      <td>1</td>\n",
       "      <td>AGUASCALIENTES</td>\n",
       "      <td>2</td>\n",
       "      <td>AGUASCALIENTES</td>\n",
       "      <td>64670</td>\n",
       "      <td>10097</td>\n",
       "      <td>3629</td>\n",
       "      <td>3228</td>\n",
       "      <td>2479</td>\n",
       "      <td>6339</td>\n",
       "      <td>41285</td>\n",
       "      <td>2433</td>\n",
       "      <td>1049</td>\n",
       "      <td>2872</td>\n",
       "      <td>-</td>\n",
       "      <td>-</td>\n",
       "      <td>143314</td>\n",
       "      <td>13/06/2021 08:06:54</td>\n",
       "    </tr>\n",
       "    <tr>\n",
       "      <th>2</th>\n",
       "      <td>RP</td>\n",
       "      <td>1</td>\n",
       "      <td>AGUASCALIENTES</td>\n",
       "      <td>3</td>\n",
       "      <td>AGUASCALIENTES</td>\n",
       "      <td>101758</td>\n",
       "      <td>12857</td>\n",
       "      <td>2692</td>\n",
       "      <td>3473</td>\n",
       "      <td>1987</td>\n",
       "      <td>7128</td>\n",
       "      <td>38946</td>\n",
       "      <td>2243</td>\n",
       "      <td>975</td>\n",
       "      <td>3108</td>\n",
       "      <td>-</td>\n",
       "      <td>-</td>\n",
       "      <td>180246</td>\n",
       "      <td>13/06/2021 08:06:55</td>\n",
       "    </tr>\n",
       "    <tr>\n",
       "      <th>3</th>\n",
       "      <td>RP</td>\n",
       "      <td>2</td>\n",
       "      <td>BAJA CALIFORNIA</td>\n",
       "      <td>1</td>\n",
       "      <td>MEXICALI</td>\n",
       "      <td>23902</td>\n",
       "      <td>6650</td>\n",
       "      <td>1307</td>\n",
       "      <td>3351</td>\n",
       "      <td>2172</td>\n",
       "      <td>8432</td>\n",
       "      <td>59514</td>\n",
       "      <td>20582</td>\n",
       "      <td>1632</td>\n",
       "      <td>2650</td>\n",
       "      <td>-</td>\n",
       "      <td>-</td>\n",
       "      <td>134363</td>\n",
       "      <td>13/06/2021 08:06:04</td>\n",
       "    </tr>\n",
       "    <tr>\n",
       "      <th>4</th>\n",
       "      <td>RP</td>\n",
       "      <td>2</td>\n",
       "      <td>BAJA CALIFORNIA</td>\n",
       "      <td>2</td>\n",
       "      <td>MEXICALI</td>\n",
       "      <td>32136</td>\n",
       "      <td>9237</td>\n",
       "      <td>1461</td>\n",
       "      <td>2713</td>\n",
       "      <td>1816</td>\n",
       "      <td>7999</td>\n",
       "      <td>58174</td>\n",
       "      <td>22197</td>\n",
       "      <td>2273</td>\n",
       "      <td>2546</td>\n",
       "      <td>-</td>\n",
       "      <td>-</td>\n",
       "      <td>145757</td>\n",
       "      <td>13/06/2021 08:06:24</td>\n",
       "    </tr>\n",
       "  </tbody>\n",
       "</table>\n",
       "</div>"
      ],
      "text/plain": [
       "  TIPO_CANDIDATURA  ID_ESTADO    NOMBRE_ESTADO  ID_DISTRITO NOMBRE_DISTRITO  \\\n",
       "0               RP          1   AGUASCALIENTES            1     JESUS MARIA   \n",
       "1               RP          1   AGUASCALIENTES            2  AGUASCALIENTES   \n",
       "2               RP          1   AGUASCALIENTES            3  AGUASCALIENTES   \n",
       "3               RP          2  BAJA CALIFORNIA            1        MEXICALI   \n",
       "4               RP          2  BAJA CALIFORNIA            2        MEXICALI   \n",
       "\n",
       "      PAN    PRI   PRD   PVEM    PT    MC  MORENA    PES   RSP   FXM  \\\n",
       "0   62687  23717  8034  11731  7696  6494   48317   3184  2208  9231   \n",
       "1   64670  10097  3629   3228  2479  6339   41285   2433  1049  2872   \n",
       "2  101758  12857  2692   3473  1987  7128   38946   2243   975  3108   \n",
       "3   23902   6650  1307   3351  2172  8432   59514  20582  1632  2650   \n",
       "4   32136   9237  1461   2713  1816  7999   58174  22197  2273  2546   \n",
       "\n",
       "  CANDIDATO/A NO REGISTRADO/A VOTOS NULOS  TOTAL_VOTOS_CALCULADOS  \\\n",
       "0                           -           -                  190528   \n",
       "1                           -           -                  143314   \n",
       "2                           -           -                  180246   \n",
       "3                           -           -                  134363   \n",
       "4                           -           -                  145757   \n",
       "\n",
       "            FECHA_HORA  \n",
       "0  13/06/2021 08:06:55  \n",
       "1  13/06/2021 08:06:54  \n",
       "2  13/06/2021 08:06:55  \n",
       "3  13/06/2021 08:06:04  \n",
       "4  13/06/2021 08:06:24  "
      ]
     },
     "execution_count": 4,
     "metadata": {},
     "output_type": "execute_result"
    }
   ],
   "source": [
    "results_2021_df.head()"
   ]
  },
  {
   "cell_type": "markdown",
   "id": "6799ac9a",
   "metadata": {},
   "source": [
    "There are 300 results, a row per each district."
   ]
  },
  {
   "cell_type": "code",
   "execution_count": 5,
   "id": "384c763e",
   "metadata": {},
   "outputs": [
    {
     "name": "stdout",
     "output_type": "stream",
     "text": [
      "<class 'pandas.core.frame.DataFrame'>\n",
      "RangeIndex: 300 entries, 0 to 299\n",
      "Data columns (total 19 columns):\n",
      " #   Column                       Non-Null Count  Dtype \n",
      "---  ------                       --------------  ----- \n",
      " 0   TIPO_CANDIDATURA             300 non-null    object\n",
      " 1   ID_ESTADO                    300 non-null    int64 \n",
      " 2   NOMBRE_ESTADO                300 non-null    object\n",
      " 3   ID_DISTRITO                  300 non-null    int64 \n",
      " 4   NOMBRE_DISTRITO              300 non-null    object\n",
      " 5   PAN                          300 non-null    int64 \n",
      " 6   PRI                          300 non-null    int64 \n",
      " 7   PRD                          300 non-null    int64 \n",
      " 8   PVEM                         300 non-null    int64 \n",
      " 9   PT                           300 non-null    int64 \n",
      " 10  MC                           300 non-null    int64 \n",
      " 11  MORENA                       300 non-null    int64 \n",
      " 12  PES                          300 non-null    int64 \n",
      " 13  RSP                          300 non-null    int64 \n",
      " 14  FXM                          300 non-null    int64 \n",
      " 15  CANDIDATO/A NO REGISTRADO/A  300 non-null    object\n",
      " 16  VOTOS NULOS                  300 non-null    object\n",
      " 17  TOTAL_VOTOS_CALCULADOS       300 non-null    int64 \n",
      " 18  FECHA_HORA                   300 non-null    object\n",
      "dtypes: int64(13), object(6)\n",
      "memory usage: 44.7+ KB\n"
     ]
    }
   ],
   "source": [
    "results_2021_df.info()"
   ]
  },
  {
   "cell_type": "code",
   "execution_count": 6,
   "id": "ce3d6163",
   "metadata": {},
   "outputs": [
    {
     "data": {
      "text/html": [
       "<div>\n",
       "<style scoped>\n",
       "    .dataframe tbody tr th:only-of-type {\n",
       "        vertical-align: middle;\n",
       "    }\n",
       "\n",
       "    .dataframe tbody tr th {\n",
       "        vertical-align: top;\n",
       "    }\n",
       "\n",
       "    .dataframe thead th {\n",
       "        text-align: right;\n",
       "    }\n",
       "</style>\n",
       "<table border=\"1\" class=\"dataframe\">\n",
       "  <thead>\n",
       "    <tr style=\"text-align: right;\">\n",
       "      <th></th>\n",
       "      <th>ID_ESTADO</th>\n",
       "      <th>ID_DISTRITO</th>\n",
       "      <th>PAN</th>\n",
       "      <th>PRI</th>\n",
       "      <th>PRD</th>\n",
       "      <th>PVEM</th>\n",
       "      <th>PT</th>\n",
       "      <th>MC</th>\n",
       "      <th>MORENA</th>\n",
       "      <th>PES</th>\n",
       "      <th>RSP</th>\n",
       "      <th>FXM</th>\n",
       "      <th>TOTAL_VOTOS_CALCULADOS</th>\n",
       "    </tr>\n",
       "  </thead>\n",
       "  <tbody>\n",
       "    <tr>\n",
       "      <th>count</th>\n",
       "      <td>300.000000</td>\n",
       "      <td>300.000000</td>\n",
       "      <td>300.000000</td>\n",
       "      <td>300.000000</td>\n",
       "      <td>300.000000</td>\n",
       "      <td>300.000000</td>\n",
       "      <td>300.000000</td>\n",
       "      <td>300.000000</td>\n",
       "      <td>300.000000</td>\n",
       "      <td>300.00000</td>\n",
       "      <td>300.000000</td>\n",
       "      <td>300.000000</td>\n",
       "      <td>300.000000</td>\n",
       "    </tr>\n",
       "    <tr>\n",
       "      <th>mean</th>\n",
       "      <td>16.476667</td>\n",
       "      <td>8.523333</td>\n",
       "      <td>29897.626667</td>\n",
       "      <td>29052.996667</td>\n",
       "      <td>5975.666667</td>\n",
       "      <td>8903.323333</td>\n",
       "      <td>5316.093333</td>\n",
       "      <td>11499.940000</td>\n",
       "      <td>55866.390000</td>\n",
       "      <td>4508.48000</td>\n",
       "      <td>2895.050000</td>\n",
       "      <td>4056.946667</td>\n",
       "      <td>163690.030000</td>\n",
       "    </tr>\n",
       "    <tr>\n",
       "      <th>std</th>\n",
       "      <td>7.939747</td>\n",
       "      <td>8.140250</td>\n",
       "      <td>24763.599266</td>\n",
       "      <td>17025.614023</td>\n",
       "      <td>6846.922665</td>\n",
       "      <td>9899.983000</td>\n",
       "      <td>4452.039218</td>\n",
       "      <td>12958.384774</td>\n",
       "      <td>16786.009724</td>\n",
       "      <td>4227.89523</td>\n",
       "      <td>3227.486204</td>\n",
       "      <td>3010.513500</td>\n",
       "      <td>26750.328063</td>\n",
       "    </tr>\n",
       "    <tr>\n",
       "      <th>min</th>\n",
       "      <td>1.000000</td>\n",
       "      <td>1.000000</td>\n",
       "      <td>866.000000</td>\n",
       "      <td>3296.000000</td>\n",
       "      <td>486.000000</td>\n",
       "      <td>1188.000000</td>\n",
       "      <td>728.000000</td>\n",
       "      <td>1695.000000</td>\n",
       "      <td>14624.000000</td>\n",
       "      <td>611.00000</td>\n",
       "      <td>369.000000</td>\n",
       "      <td>563.000000</td>\n",
       "      <td>102320.000000</td>\n",
       "    </tr>\n",
       "    <tr>\n",
       "      <th>25%</th>\n",
       "      <td>11.000000</td>\n",
       "      <td>3.000000</td>\n",
       "      <td>12041.000000</td>\n",
       "      <td>15808.000000</td>\n",
       "      <td>1913.000000</td>\n",
       "      <td>3468.500000</td>\n",
       "      <td>2442.250000</td>\n",
       "      <td>4114.000000</td>\n",
       "      <td>45661.000000</td>\n",
       "      <td>2285.50000</td>\n",
       "      <td>1170.250000</td>\n",
       "      <td>2183.250000</td>\n",
       "      <td>143934.750000</td>\n",
       "    </tr>\n",
       "    <tr>\n",
       "      <th>50%</th>\n",
       "      <td>15.000000</td>\n",
       "      <td>6.000000</td>\n",
       "      <td>21128.500000</td>\n",
       "      <td>25936.000000</td>\n",
       "      <td>3335.500000</td>\n",
       "      <td>5410.000000</td>\n",
       "      <td>3483.000000</td>\n",
       "      <td>6362.000000</td>\n",
       "      <td>57396.500000</td>\n",
       "      <td>3227.50000</td>\n",
       "      <td>1906.500000</td>\n",
       "      <td>3144.000000</td>\n",
       "      <td>161886.500000</td>\n",
       "    </tr>\n",
       "    <tr>\n",
       "      <th>75%</th>\n",
       "      <td>22.000000</td>\n",
       "      <td>11.000000</td>\n",
       "      <td>43025.500000</td>\n",
       "      <td>37640.000000</td>\n",
       "      <td>7847.750000</td>\n",
       "      <td>9366.500000</td>\n",
       "      <td>7007.250000</td>\n",
       "      <td>11628.250000</td>\n",
       "      <td>66607.000000</td>\n",
       "      <td>5102.50000</td>\n",
       "      <td>3265.500000</td>\n",
       "      <td>5042.500000</td>\n",
       "      <td>182235.000000</td>\n",
       "    </tr>\n",
       "    <tr>\n",
       "      <th>max</th>\n",
       "      <td>32.000000</td>\n",
       "      <td>41.000000</td>\n",
       "      <td>143586.000000</td>\n",
       "      <td>90787.000000</td>\n",
       "      <td>50296.000000</td>\n",
       "      <td>68133.000000</td>\n",
       "      <td>28089.000000</td>\n",
       "      <td>72639.000000</td>\n",
       "      <td>96941.000000</td>\n",
       "      <td>28160.00000</td>\n",
       "      <td>32236.000000</td>\n",
       "      <td>25630.000000</td>\n",
       "      <td>239168.000000</td>\n",
       "    </tr>\n",
       "  </tbody>\n",
       "</table>\n",
       "</div>"
      ],
      "text/plain": [
       "        ID_ESTADO  ID_DISTRITO            PAN           PRI           PRD  \\\n",
       "count  300.000000   300.000000     300.000000    300.000000    300.000000   \n",
       "mean    16.476667     8.523333   29897.626667  29052.996667   5975.666667   \n",
       "std      7.939747     8.140250   24763.599266  17025.614023   6846.922665   \n",
       "min      1.000000     1.000000     866.000000   3296.000000    486.000000   \n",
       "25%     11.000000     3.000000   12041.000000  15808.000000   1913.000000   \n",
       "50%     15.000000     6.000000   21128.500000  25936.000000   3335.500000   \n",
       "75%     22.000000    11.000000   43025.500000  37640.000000   7847.750000   \n",
       "max     32.000000    41.000000  143586.000000  90787.000000  50296.000000   \n",
       "\n",
       "               PVEM            PT            MC        MORENA          PES  \\\n",
       "count    300.000000    300.000000    300.000000    300.000000    300.00000   \n",
       "mean    8903.323333   5316.093333  11499.940000  55866.390000   4508.48000   \n",
       "std     9899.983000   4452.039218  12958.384774  16786.009724   4227.89523   \n",
       "min     1188.000000    728.000000   1695.000000  14624.000000    611.00000   \n",
       "25%     3468.500000   2442.250000   4114.000000  45661.000000   2285.50000   \n",
       "50%     5410.000000   3483.000000   6362.000000  57396.500000   3227.50000   \n",
       "75%     9366.500000   7007.250000  11628.250000  66607.000000   5102.50000   \n",
       "max    68133.000000  28089.000000  72639.000000  96941.000000  28160.00000   \n",
       "\n",
       "                RSP           FXM  TOTAL_VOTOS_CALCULADOS  \n",
       "count    300.000000    300.000000              300.000000  \n",
       "mean    2895.050000   4056.946667           163690.030000  \n",
       "std     3227.486204   3010.513500            26750.328063  \n",
       "min      369.000000    563.000000           102320.000000  \n",
       "25%     1170.250000   2183.250000           143934.750000  \n",
       "50%     1906.500000   3144.000000           161886.500000  \n",
       "75%     3265.500000   5042.500000           182235.000000  \n",
       "max    32236.000000  25630.000000           239168.000000  "
      ]
     },
     "execution_count": 6,
     "metadata": {},
     "output_type": "execute_result"
    }
   ],
   "source": [
    "results_2021_df.describe()"
   ]
  },
  {
   "cell_type": "code",
   "execution_count": 7,
   "id": "e9f16b6d",
   "metadata": {},
   "outputs": [
    {
     "data": {
      "image/png": "[encoded data removed]",
      "text/plain": [
       "<Figure size 432x288 with 16 Axes>"
      ]
     },
     "metadata": {
      "needs_background": "light"
     },
     "output_type": "display_data"
    }
   ],
   "source": [
    "results_2021_df.hist();"
   ]
  },
  {
   "cell_type": "code",
   "execution_count": 8,
   "id": "47bc6ed8",
   "metadata": {},
   "outputs": [
    {
     "data": {
      "image/png": "[encoded data removed]",
      "text/plain": [
       "<Figure size 432x288 with 1 Axes>"
      ]
     },
     "metadata": {
      "needs_background": "light"
     },
     "output_type": "display_data"
    }
   ],
   "source": [
    "(results_2021_df[['PAN', 'PRI', 'PRD', 'PVEM', 'PT', 'MC', 'MORENA', 'PES', 'RSP', 'FXM']].sum()\\\n",
    "                                         /results_2018_df.TOTAL_VOTOS_CALCULADOS.sum()).sort_values().plot(kind='bar')\n",
    "\n",
    "plt.ticklabel_format(style='plain', axis='y')\n",
    "plt.title('2021 Votes per Political Party', color='black');\n",
    "plt.ylabel('Votes (%)');"
   ]
  },
  {
   "cell_type": "markdown",
   "id": "cc71950b",
   "metadata": {},
   "source": [
    "### 2021 Candidacies\n",
    "\n",
    "Inspecting the 2021 candidates list. From here we can extract coalition details."
   ]
  },
  {
   "cell_type": "code",
   "execution_count": 9,
   "id": "535f5e7c",
   "metadata": {},
   "outputs": [
    {
     "data": {
      "text/html": [
       "<div>\n",
       "<style scoped>\n",
       "    .dataframe tbody tr th:only-of-type {\n",
       "        vertical-align: middle;\n",
       "    }\n",
       "\n",
       "    .dataframe tbody tr th {\n",
       "        vertical-align: top;\n",
       "    }\n",
       "\n",
       "    .dataframe thead th {\n",
       "        text-align: right;\n",
       "    }\n",
       "</style>\n",
       "<table border=\"1\" class=\"dataframe\">\n",
       "  <thead>\n",
       "    <tr style=\"text-align: right;\">\n",
       "      <th></th>\n",
       "      <th>ESTADO</th>\n",
       "      <th>DISTRITO</th>\n",
       "      <th>PARTIDO_CI</th>\n",
       "      <th>CANDIDATURA_PROPIETARIA</th>\n",
       "      <th>CANDIDATURA_SUPLENTE</th>\n",
       "    </tr>\n",
       "  </thead>\n",
       "  <tbody>\n",
       "    <tr>\n",
       "      <th>0</th>\n",
       "      <td>1</td>\n",
       "      <td>1</td>\n",
       "      <td>PAN</td>\n",
       "      <td>NOEL MATA ATILANO</td>\n",
       "      <td>ARNULFO FEDERICO VARGAS GOMEZ</td>\n",
       "    </tr>\n",
       "    <tr>\n",
       "      <th>1</th>\n",
       "      <td>1</td>\n",
       "      <td>1</td>\n",
       "      <td>PRI</td>\n",
       "      <td>NOEL MATA ATILANO</td>\n",
       "      <td>ARNULFO FEDERICO VARGAS GOMEZ</td>\n",
       "    </tr>\n",
       "    <tr>\n",
       "      <th>2</th>\n",
       "      <td>1</td>\n",
       "      <td>1</td>\n",
       "      <td>PRD</td>\n",
       "      <td>NOEL MATA ATILANO</td>\n",
       "      <td>ARNULFO FEDERICO VARGAS GOMEZ</td>\n",
       "    </tr>\n",
       "    <tr>\n",
       "      <th>3</th>\n",
       "      <td>1</td>\n",
       "      <td>1</td>\n",
       "      <td>PVEM</td>\n",
       "      <td>CLAUDIA BRISEIDA CHAVEZ RAMIREZ</td>\n",
       "      <td>MELANNIE ITZAYANA REYES MARTINEZ</td>\n",
       "    </tr>\n",
       "    <tr>\n",
       "      <th>4</th>\n",
       "      <td>1</td>\n",
       "      <td>1</td>\n",
       "      <td>PT</td>\n",
       "      <td>JUAN MANUEL DE LOERA MARQUEZ</td>\n",
       "      <td>LILIA RODRIGUEZ GUERRERO</td>\n",
       "    </tr>\n",
       "  </tbody>\n",
       "</table>\n",
       "</div>"
      ],
      "text/plain": [
       "   ESTADO  DISTRITO PARTIDO_CI          CANDIDATURA_PROPIETARIA  \\\n",
       "0       1         1        PAN                NOEL MATA ATILANO   \n",
       "1       1         1        PRI                NOEL MATA ATILANO   \n",
       "2       1         1        PRD                NOEL MATA ATILANO   \n",
       "3       1         1       PVEM  CLAUDIA BRISEIDA CHAVEZ RAMIREZ   \n",
       "4       1         1         PT     JUAN MANUEL DE LOERA MARQUEZ   \n",
       "\n",
       "               CANDIDATURA_SUPLENTE  \n",
       "0     ARNULFO FEDERICO VARGAS GOMEZ  \n",
       "1     ARNULFO FEDERICO VARGAS GOMEZ  \n",
       "2     ARNULFO FEDERICO VARGAS GOMEZ  \n",
       "3  MELANNIE ITZAYANA REYES MARTINEZ  \n",
       "4          LILIA RODRIGUEZ GUERRERO  "
      ]
     },
     "execution_count": 9,
     "metadata": {},
     "output_type": "execute_result"
    }
   ],
   "source": [
    "candidacies_2021_df.head()"
   ]
  },
  {
   "cell_type": "code",
   "execution_count": 10,
   "id": "7c42b4e2",
   "metadata": {},
   "outputs": [
    {
     "name": "stdout",
     "output_type": "stream",
     "text": [
      "<class 'pandas.core.frame.DataFrame'>\n",
      "RangeIndex: 4611 entries, 0 to 4610\n",
      "Data columns (total 5 columns):\n",
      " #   Column                   Non-Null Count  Dtype \n",
      "---  ------                   --------------  ----- \n",
      " 0   ESTADO                   4611 non-null   int64 \n",
      " 1   DISTRITO                 4611 non-null   int64 \n",
      " 2   PARTIDO_CI               4611 non-null   object\n",
      " 3   CANDIDATURA_PROPIETARIA  4611 non-null   object\n",
      " 4   CANDIDATURA_SUPLENTE     4611 non-null   object\n",
      "dtypes: int64(2), object(3)\n",
      "memory usage: 180.2+ KB\n"
     ]
    }
   ],
   "source": [
    "candidacies_2021_df.info()"
   ]
  },
  {
   "cell_type": "markdown",
   "id": "d6779ced",
   "metadata": {},
   "source": [
    "## 2018 Chamber of Deputies Election\n",
    "\n",
    "Inspecting the 2018 results data."
   ]
  },
  {
   "cell_type": "code",
   "execution_count": 11,
   "id": "0d61b797",
   "metadata": {},
   "outputs": [
    {
     "data": {
      "text/html": [
       "<div>\n",
       "<style scoped>\n",
       "    .dataframe tbody tr th:only-of-type {\n",
       "        vertical-align: middle;\n",
       "    }\n",
       "\n",
       "    .dataframe tbody tr th {\n",
       "        vertical-align: top;\n",
       "    }\n",
       "\n",
       "    .dataframe thead th {\n",
       "        text-align: right;\n",
       "    }\n",
       "</style>\n",
       "<table border=\"1\" class=\"dataframe\">\n",
       "  <thead>\n",
       "    <tr style=\"text-align: right;\">\n",
       "      <th></th>\n",
       "      <th>CLAVE_CASILLA</th>\n",
       "      <th>CLAVE_ACTA</th>\n",
       "      <th>ID_ESTADO</th>\n",
       "      <th>NOMBRE_ESTADO</th>\n",
       "      <th>ID_DISTRITO</th>\n",
       "      <th>NOMBRE_DISTRITO</th>\n",
       "      <th>SECCION</th>\n",
       "      <th>ID_CASILLA</th>\n",
       "      <th>TIPO_CASILLA</th>\n",
       "      <th>EXT_CONTIGUA</th>\n",
       "      <th>...</th>\n",
       "      <th>CAND_IND_02</th>\n",
       "      <th>CNR</th>\n",
       "      <th>VN</th>\n",
       "      <th>TOTAL_VOTOS_CALCULADOS</th>\n",
       "      <th>LISTA_NOMINAL_CASILLA</th>\n",
       "      <th>OBSERVACIONES</th>\n",
       "      <th>MECANISMOS_TRASLADO</th>\n",
       "      <th>FECHA_HORA</th>\n",
       "      <th>Unnamed: 42</th>\n",
       "      <th>Unnamed: 43</th>\n",
       "    </tr>\n",
       "  </thead>\n",
       "  <tbody>\n",
       "    <tr>\n",
       "      <th>0</th>\n",
       "      <td>'010338B0100'</td>\n",
       "      <td>010338B010006</td>\n",
       "      <td>1</td>\n",
       "      <td>AGUASCALIENTES</td>\n",
       "      <td>1</td>\n",
       "      <td>JESÚS MARÍA</td>\n",
       "      <td>338</td>\n",
       "      <td>1</td>\n",
       "      <td>B</td>\n",
       "      <td>0</td>\n",
       "      <td>...</td>\n",
       "      <td>-</td>\n",
       "      <td>1</td>\n",
       "      <td>25</td>\n",
       "      <td>337</td>\n",
       "      <td>587</td>\n",
       "      <td>Cotejo (Levantada en Casilla)</td>\n",
       "      <td>F</td>\n",
       "      <td>05/07/18 09:37:16.275000</td>\n",
       "      <td>NaN</td>\n",
       "      <td>NaN</td>\n",
       "    </tr>\n",
       "    <tr>\n",
       "      <th>1</th>\n",
       "      <td>'010338C0100'</td>\n",
       "      <td>010338C010006</td>\n",
       "      <td>1</td>\n",
       "      <td>AGUASCALIENTES</td>\n",
       "      <td>1</td>\n",
       "      <td>JESÚS MARÍA</td>\n",
       "      <td>338</td>\n",
       "      <td>1</td>\n",
       "      <td>C</td>\n",
       "      <td>0</td>\n",
       "      <td>...</td>\n",
       "      <td>-</td>\n",
       "      <td>0</td>\n",
       "      <td>13</td>\n",
       "      <td>336</td>\n",
       "      <td>586</td>\n",
       "      <td>Cotejo (Levantada en Casilla)</td>\n",
       "      <td>F</td>\n",
       "      <td>05/07/18 09:39:07.887000</td>\n",
       "      <td>NaN</td>\n",
       "      <td>NaN</td>\n",
       "    </tr>\n",
       "    <tr>\n",
       "      <th>2</th>\n",
       "      <td>'010338C0200'</td>\n",
       "      <td>010338C020006</td>\n",
       "      <td>1</td>\n",
       "      <td>AGUASCALIENTES</td>\n",
       "      <td>1</td>\n",
       "      <td>JESÚS MARÍA</td>\n",
       "      <td>338</td>\n",
       "      <td>2</td>\n",
       "      <td>C</td>\n",
       "      <td>0</td>\n",
       "      <td>...</td>\n",
       "      <td>-</td>\n",
       "      <td>0</td>\n",
       "      <td>17</td>\n",
       "      <td>305</td>\n",
       "      <td>586</td>\n",
       "      <td>Recuento (Para recuento (SRA))</td>\n",
       "      <td>F</td>\n",
       "      <td>05/07/18 10:33:15.991000</td>\n",
       "      <td>NaN</td>\n",
       "      <td>NaN</td>\n",
       "    </tr>\n",
       "    <tr>\n",
       "      <th>3</th>\n",
       "      <td>'010339B0100'</td>\n",
       "      <td>010339B010006</td>\n",
       "      <td>1</td>\n",
       "      <td>AGUASCALIENTES</td>\n",
       "      <td>1</td>\n",
       "      <td>JESÚS MARÍA</td>\n",
       "      <td>339</td>\n",
       "      <td>1</td>\n",
       "      <td>B</td>\n",
       "      <td>0</td>\n",
       "      <td>...</td>\n",
       "      <td>-</td>\n",
       "      <td>0</td>\n",
       "      <td>12</td>\n",
       "      <td>328</td>\n",
       "      <td>552</td>\n",
       "      <td>Cotejo (Levantada en Casilla)</td>\n",
       "      <td>F-D</td>\n",
       "      <td>05/07/18 09:40:54.747000</td>\n",
       "      <td>NaN</td>\n",
       "      <td>NaN</td>\n",
       "    </tr>\n",
       "    <tr>\n",
       "      <th>4</th>\n",
       "      <td>'010339C0100'</td>\n",
       "      <td>010339C010006</td>\n",
       "      <td>1</td>\n",
       "      <td>AGUASCALIENTES</td>\n",
       "      <td>1</td>\n",
       "      <td>JESÚS MARÍA</td>\n",
       "      <td>339</td>\n",
       "      <td>1</td>\n",
       "      <td>C</td>\n",
       "      <td>0</td>\n",
       "      <td>...</td>\n",
       "      <td>-</td>\n",
       "      <td>0</td>\n",
       "      <td>15</td>\n",
       "      <td>319</td>\n",
       "      <td>552</td>\n",
       "      <td>Recuento (Para recuento (SRA))</td>\n",
       "      <td>F-D</td>\n",
       "      <td>05/07/18 10:35:55.072000</td>\n",
       "      <td>NaN</td>\n",
       "      <td>NaN</td>\n",
       "    </tr>\n",
       "  </tbody>\n",
       "</table>\n",
       "<p>5 rows × 44 columns</p>\n",
       "</div>"
      ],
      "text/plain": [
       "   CLAVE_CASILLA     CLAVE_ACTA  ID_ESTADO   NOMBRE_ESTADO  ID_DISTRITO  \\\n",
       "0  '010338B0100'  010338B010006          1  AGUASCALIENTES            1   \n",
       "1  '010338C0100'  010338C010006          1  AGUASCALIENTES            1   \n",
       "2  '010338C0200'  010338C020006          1  AGUASCALIENTES            1   \n",
       "3  '010339B0100'  010339B010006          1  AGUASCALIENTES            1   \n",
       "4  '010339C0100'  010339C010006          1  AGUASCALIENTES            1   \n",
       "\n",
       "  NOMBRE_DISTRITO  SECCION  ID_CASILLA TIPO_CASILLA  EXT_CONTIGUA  ...  \\\n",
       "0     JESÚS MARÍA      338           1            B             0  ...   \n",
       "1     JESÚS MARÍA      338           1            C             0  ...   \n",
       "2     JESÚS MARÍA      338           2            C             0  ...   \n",
       "3     JESÚS MARÍA      339           1            B             0  ...   \n",
       "4     JESÚS MARÍA      339           1            C             0  ...   \n",
       "\n",
       "  CAND_IND_02  CNR  VN TOTAL_VOTOS_CALCULADOS LISTA_NOMINAL_CASILLA  \\\n",
       "0           -    1  25                    337                   587   \n",
       "1           -    0  13                    336                   586   \n",
       "2           -    0  17                    305                   586   \n",
       "3           -    0  12                    328                   552   \n",
       "4           -    0  15                    319                   552   \n",
       "\n",
       "                    OBSERVACIONES MECANISMOS_TRASLADO  \\\n",
       "0   Cotejo (Levantada en Casilla)                   F   \n",
       "1   Cotejo (Levantada en Casilla)                   F   \n",
       "2  Recuento (Para recuento (SRA))                   F   \n",
       "3   Cotejo (Levantada en Casilla)                 F-D   \n",
       "4  Recuento (Para recuento (SRA))                 F-D   \n",
       "\n",
       "                 FECHA_HORA Unnamed: 42 Unnamed: 43  \n",
       "0  05/07/18 09:37:16.275000         NaN         NaN  \n",
       "1  05/07/18 09:39:07.887000         NaN         NaN  \n",
       "2  05/07/18 10:33:15.991000         NaN         NaN  \n",
       "3  05/07/18 09:40:54.747000         NaN         NaN  \n",
       "4  05/07/18 10:35:55.072000         NaN         NaN  \n",
       "\n",
       "[5 rows x 44 columns]"
      ]
     },
     "execution_count": 11,
     "metadata": {},
     "output_type": "execute_result"
    }
   ],
   "source": [
    "results_2018_df.head()"
   ]
  },
  {
   "cell_type": "markdown",
   "id": "04e1103b",
   "metadata": {},
   "source": [
    "It appears that unlike the previous dataset, the results are presented by precint, not consolidate by district. Also, the results columns are not numeric values."
   ]
  },
  {
   "cell_type": "code",
   "execution_count": 12,
   "id": "afbd5655",
   "metadata": {},
   "outputs": [
    {
     "name": "stdout",
     "output_type": "stream",
     "text": [
      "<class 'pandas.core.frame.DataFrame'>\n",
      "RangeIndex: 157859 entries, 0 to 157858\n",
      "Data columns (total 44 columns):\n",
      " #   Column                  Non-Null Count   Dtype  \n",
      "---  ------                  --------------   -----  \n",
      " 0   CLAVE_CASILLA           157859 non-null  object \n",
      " 1   CLAVE_ACTA              157859 non-null  object \n",
      " 2   ID_ESTADO               157859 non-null  int64  \n",
      " 3   NOMBRE_ESTADO           157859 non-null  object \n",
      " 4   ID_DISTRITO             157859 non-null  int64  \n",
      " 5   NOMBRE_DISTRITO         157859 non-null  object \n",
      " 6   SECCION                 157859 non-null  int64  \n",
      " 7   ID_CASILLA              157859 non-null  int64  \n",
      " 8   TIPO_CASILLA            157859 non-null  object \n",
      " 9   EXT_CONTIGUA            157859 non-null  int64  \n",
      " 10  CASILLA                 157859 non-null  object \n",
      " 11  NUM_ACTA_IMPRESO        157859 non-null  int64  \n",
      " 12  PAN                     157859 non-null  object \n",
      " 13  PRI                     157859 non-null  object \n",
      " 14  PRD                     157859 non-null  object \n",
      " 15  PVEM                    157859 non-null  object \n",
      " 16  PT                      157859 non-null  object \n",
      " 17  MOVIMIENTO CIUDADANO    157859 non-null  object \n",
      " 18  NUEVA ALIANZA           157859 non-null  object \n",
      " 19  MORENA                  157859 non-null  object \n",
      " 20  ENCUENTRO SOCIAL        157859 non-null  object \n",
      " 21  PAN_PRD_MC              157859 non-null  object \n",
      " 22  PAN_PRD                 157859 non-null  object \n",
      " 23  PAN_MC                  157859 non-null  object \n",
      " 24  PRD_MC                  157859 non-null  object \n",
      " 25  PRI_PVEM_NA             157859 non-null  object \n",
      " 26  PRI_PVEM                157859 non-null  object \n",
      " 27  PRI_NA                  157859 non-null  object \n",
      " 28  PVEM_NA                 157859 non-null  object \n",
      " 29  PT_MORENA_PES           157859 non-null  object \n",
      " 30  PT_MORENA               157859 non-null  object \n",
      " 31  PT_PES                  157859 non-null  object \n",
      " 32  MORENA_PES              157859 non-null  object \n",
      " 33  CAND_IND_01             157859 non-null  object \n",
      " 34  CAND_IND_02             157859 non-null  object \n",
      " 35  CNR                     157859 non-null  object \n",
      " 36  VN                      157859 non-null  object \n",
      " 37  TOTAL_VOTOS_CALCULADOS  157859 non-null  int64  \n",
      " 38  LISTA_NOMINAL_CASILLA   157859 non-null  object \n",
      " 39  OBSERVACIONES           157859 non-null  object \n",
      " 40  MECANISMOS_TRASLADO     157859 non-null  object \n",
      " 41  FECHA_HORA              157859 non-null  object \n",
      " 42  Unnamed: 42             0 non-null       float64\n",
      " 43  Unnamed: 43             0 non-null       float64\n",
      "dtypes: float64(2), int64(7), object(35)\n",
      "memory usage: 53.0+ MB\n"
     ]
    }
   ],
   "source": [
    "results_2018_df.info()"
   ]
  },
  {
   "cell_type": "code",
   "execution_count": 13,
   "id": "963f0726",
   "metadata": {},
   "outputs": [
    {
     "data": {
      "text/html": [
       "<div>\n",
       "<style scoped>\n",
       "    .dataframe tbody tr th:only-of-type {\n",
       "        vertical-align: middle;\n",
       "    }\n",
       "\n",
       "    .dataframe tbody tr th {\n",
       "        vertical-align: top;\n",
       "    }\n",
       "\n",
       "    .dataframe thead th {\n",
       "        text-align: right;\n",
       "    }\n",
       "</style>\n",
       "<table border=\"1\" class=\"dataframe\">\n",
       "  <thead>\n",
       "    <tr style=\"text-align: right;\">\n",
       "      <th></th>\n",
       "      <th>ID_ESTADO</th>\n",
       "      <th>ID_DISTRITO</th>\n",
       "      <th>SECCION</th>\n",
       "      <th>ID_CASILLA</th>\n",
       "      <th>EXT_CONTIGUA</th>\n",
       "      <th>NUM_ACTA_IMPRESO</th>\n",
       "      <th>TOTAL_VOTOS_CALCULADOS</th>\n",
       "      <th>Unnamed: 42</th>\n",
       "      <th>Unnamed: 43</th>\n",
       "    </tr>\n",
       "  </thead>\n",
       "  <tbody>\n",
       "    <tr>\n",
       "      <th>count</th>\n",
       "      <td>157859.000000</td>\n",
       "      <td>157859.000000</td>\n",
       "      <td>157859.000000</td>\n",
       "      <td>157859.000000</td>\n",
       "      <td>157859.000000</td>\n",
       "      <td>157859.000000</td>\n",
       "      <td>157859.000000</td>\n",
       "      <td>0.0</td>\n",
       "      <td>0.0</td>\n",
       "    </tr>\n",
       "    <tr>\n",
       "      <th>mean</th>\n",
       "      <td>16.521744</td>\n",
       "      <td>8.272883</td>\n",
       "      <td>1595.176575</td>\n",
       "      <td>1.563674</td>\n",
       "      <td>0.053592</td>\n",
       "      <td>6.019974</td>\n",
       "      <td>356.648953</td>\n",
       "      <td>NaN</td>\n",
       "      <td>NaN</td>\n",
       "    </tr>\n",
       "    <tr>\n",
       "      <th>std</th>\n",
       "      <td>8.060766</td>\n",
       "      <td>7.900829</td>\n",
       "      <td>1374.572383</td>\n",
       "      <td>1.610096</td>\n",
       "      <td>0.498491</td>\n",
       "      <td>0.181357</td>\n",
       "      <td>100.330112</td>\n",
       "      <td>NaN</td>\n",
       "      <td>NaN</td>\n",
       "    </tr>\n",
       "    <tr>\n",
       "      <th>min</th>\n",
       "      <td>1.000000</td>\n",
       "      <td>1.000000</td>\n",
       "      <td>1.000000</td>\n",
       "      <td>1.000000</td>\n",
       "      <td>0.000000</td>\n",
       "      <td>6.000000</td>\n",
       "      <td>0.000000</td>\n",
       "      <td>NaN</td>\n",
       "      <td>NaN</td>\n",
       "    </tr>\n",
       "    <tr>\n",
       "      <th>25%</th>\n",
       "      <td>10.000000</td>\n",
       "      <td>3.000000</td>\n",
       "      <td>538.000000</td>\n",
       "      <td>1.000000</td>\n",
       "      <td>0.000000</td>\n",
       "      <td>6.000000</td>\n",
       "      <td>296.000000</td>\n",
       "      <td>NaN</td>\n",
       "      <td>NaN</td>\n",
       "    </tr>\n",
       "    <tr>\n",
       "      <th>50%</th>\n",
       "      <td>15.000000</td>\n",
       "      <td>6.000000</td>\n",
       "      <td>1219.000000</td>\n",
       "      <td>1.000000</td>\n",
       "      <td>0.000000</td>\n",
       "      <td>6.000000</td>\n",
       "      <td>365.000000</td>\n",
       "      <td>NaN</td>\n",
       "      <td>NaN</td>\n",
       "    </tr>\n",
       "    <tr>\n",
       "      <th>75%</th>\n",
       "      <td>22.000000</td>\n",
       "      <td>11.000000</td>\n",
       "      <td>2257.000000</td>\n",
       "      <td>1.000000</td>\n",
       "      <td>0.000000</td>\n",
       "      <td>6.000000</td>\n",
       "      <td>426.000000</td>\n",
       "      <td>NaN</td>\n",
       "      <td>NaN</td>\n",
       "    </tr>\n",
       "    <tr>\n",
       "      <th>max</th>\n",
       "      <td>32.000000</td>\n",
       "      <td>41.000000</td>\n",
       "      <td>6516.000000</td>\n",
       "      <td>28.000000</td>\n",
       "      <td>20.000000</td>\n",
       "      <td>8.000000</td>\n",
       "      <td>908.000000</td>\n",
       "      <td>NaN</td>\n",
       "      <td>NaN</td>\n",
       "    </tr>\n",
       "  </tbody>\n",
       "</table>\n",
       "</div>"
      ],
      "text/plain": [
       "           ID_ESTADO    ID_DISTRITO        SECCION     ID_CASILLA  \\\n",
       "count  157859.000000  157859.000000  157859.000000  157859.000000   \n",
       "mean       16.521744       8.272883    1595.176575       1.563674   \n",
       "std         8.060766       7.900829    1374.572383       1.610096   \n",
       "min         1.000000       1.000000       1.000000       1.000000   \n",
       "25%        10.000000       3.000000     538.000000       1.000000   \n",
       "50%        15.000000       6.000000    1219.000000       1.000000   \n",
       "75%        22.000000      11.000000    2257.000000       1.000000   \n",
       "max        32.000000      41.000000    6516.000000      28.000000   \n",
       "\n",
       "        EXT_CONTIGUA  NUM_ACTA_IMPRESO  TOTAL_VOTOS_CALCULADOS  Unnamed: 42  \\\n",
       "count  157859.000000     157859.000000           157859.000000          0.0   \n",
       "mean        0.053592          6.019974              356.648953          NaN   \n",
       "std         0.498491          0.181357              100.330112          NaN   \n",
       "min         0.000000          6.000000                0.000000          NaN   \n",
       "25%         0.000000          6.000000              296.000000          NaN   \n",
       "50%         0.000000          6.000000              365.000000          NaN   \n",
       "75%         0.000000          6.000000              426.000000          NaN   \n",
       "max        20.000000          8.000000              908.000000          NaN   \n",
       "\n",
       "       Unnamed: 43  \n",
       "count          0.0  \n",
       "mean           NaN  \n",
       "std            NaN  \n",
       "min            NaN  \n",
       "25%            NaN  \n",
       "50%            NaN  \n",
       "75%            NaN  \n",
       "max            NaN  "
      ]
     },
     "execution_count": 13,
     "metadata": {},
     "output_type": "execute_result"
    }
   ],
   "source": [
    "results_2018_df.describe()"
   ]
  },
  {
   "cell_type": "code",
   "execution_count": 14,
   "id": "f4e273b0",
   "metadata": {},
   "outputs": [
    {
     "data": {
      "image/png": "[encoded data removed]",
      "text/plain": [
       "<Figure size 432x288 with 9 Axes>"
      ]
     },
     "metadata": {
      "needs_background": "light"
     },
     "output_type": "display_data"
    }
   ],
   "source": [
    "results_2018_df.hist();"
   ]
  },
  {
   "cell_type": "code",
   "execution_count": 15,
   "id": "a9a467e3",
   "metadata": {},
   "outputs": [],
   "source": [
    "# Convert each individual party results to numeric\n",
    "numeric_cols = ['PAN', 'PRI', 'PRD', 'PVEM', 'PT', 'MOVIMIENTO CIUDADANO', 'NUEVA ALIANZA',\n",
    "       'MORENA', 'ENCUENTRO SOCIAL', 'PAN_PRD_MC', 'PAN_PRD', 'PAN_MC',\n",
    "       'PRD_MC', 'PRI_PVEM_NA', 'PRI_PVEM', 'PRI_NA', 'PVEM_NA',\n",
    "       'PT_MORENA_PES', 'PT_MORENA', 'PT_PES', 'MORENA_PES', 'CAND_IND_01',\n",
    "       'CAND_IND_02', 'CNR', 'VN', 'TOTAL_VOTOS_CALCULADOS']\n",
    "\n",
    "results_2018_df[numeric_cols] = results_2018_df[numeric_cols].apply(pd.to_numeric, errors='coerce').fillna(0)"
   ]
  },
  {
   "cell_type": "markdown",
   "id": "4574294a",
   "metadata": {},
   "source": [
    "Morena seems to have lost about 5% of the votes when comparing 2021 to the following 2018 results:"
   ]
  },
  {
   "cell_type": "code",
   "execution_count": 16,
   "id": "ef443797",
   "metadata": {},
   "outputs": [
    {
     "data": {
      "image/png": "[encoded data removed]",
      "text/plain": [
       "<Figure size 432x288 with 1 Axes>"
      ]
     },
     "metadata": {
      "needs_background": "light"
     },
     "output_type": "display_data"
    }
   ],
   "source": [
    "(results_2018_df[['PAN', 'PRI', 'PRD', 'PVEM', 'PT', 'MOVIMIENTO CIUDADANO', 'NUEVA ALIANZA', 'MORENA', 'ENCUENTRO SOCIAL', \n",
    "                 'PAN_PRD_MC', 'PAN_PRD', 'PAN_MC', 'PRD_MC', 'PRI_PVEM_NA', 'PRI_PVEM', 'PRI_NA', 'PVEM_NA', 'PT_MORENA_PES', \n",
    "                 'PT_MORENA', 'PT_PES', 'MORENA_PES']].sum().sort_values() \\\n",
    "                                                         /results_2018_df.TOTAL_VOTOS_CALCULADOS.sum()).plot(kind='bar')\n",
    "\n",
    "plt.ticklabel_format(style='plain', axis='y')\n",
    "plt.title('2018 % Votes per Political Party', color='black');"
   ]
  },
  {
   "cell_type": "markdown",
   "id": "db7c463c",
   "metadata": {},
   "source": [
    "### 2018 Candidacies\n",
    "\n",
    "Again, from the 2018 candidates list we can extract coalition details."
   ]
  },
  {
   "cell_type": "code",
   "execution_count": 17,
   "id": "6582c81c",
   "metadata": {},
   "outputs": [
    {
     "data": {
      "text/html": [
       "<div>\n",
       "<style scoped>\n",
       "    .dataframe tbody tr th:only-of-type {\n",
       "        vertical-align: middle;\n",
       "    }\n",
       "\n",
       "    .dataframe tbody tr th {\n",
       "        vertical-align: top;\n",
       "    }\n",
       "\n",
       "    .dataframe thead th {\n",
       "        text-align: right;\n",
       "    }\n",
       "</style>\n",
       "<table border=\"1\" class=\"dataframe\">\n",
       "  <thead>\n",
       "    <tr style=\"text-align: right;\">\n",
       "      <th></th>\n",
       "      <th>ESTADO</th>\n",
       "      <th>DISTRITO</th>\n",
       "      <th>PARTIDO_CI</th>\n",
       "      <th>CANDIDATURA_PROPIETARIA</th>\n",
       "      <th>CANDIDATURA_SUPLENTE</th>\n",
       "    </tr>\n",
       "  </thead>\n",
       "  <tbody>\n",
       "    <tr>\n",
       "      <th>0</th>\n",
       "      <td>1</td>\n",
       "      <td>1</td>\n",
       "      <td>PAN</td>\n",
       "      <td>FRANCISCO JAVIER LUEVANO NUÑEZ</td>\n",
       "      <td>GUSTAVO ARMENDARIZ VIRAMONTES</td>\n",
       "    </tr>\n",
       "    <tr>\n",
       "      <th>1</th>\n",
       "      <td>1</td>\n",
       "      <td>1</td>\n",
       "      <td>PRI</td>\n",
       "      <td>NORMA ESPARZA HERRERA</td>\n",
       "      <td>FABIOLA MEDINA DE LUNA</td>\n",
       "    </tr>\n",
       "    <tr>\n",
       "      <th>2</th>\n",
       "      <td>1</td>\n",
       "      <td>1</td>\n",
       "      <td>PRD</td>\n",
       "      <td>FRANCISCO JAVIER LUEVANO NUÑEZ</td>\n",
       "      <td>GUSTAVO ARMENDARIZ VIRAMONTES</td>\n",
       "    </tr>\n",
       "    <tr>\n",
       "      <th>3</th>\n",
       "      <td>1</td>\n",
       "      <td>1</td>\n",
       "      <td>PVEM</td>\n",
       "      <td>SAMANTHA WENDOLYN REYES MARTÍNEZ</td>\n",
       "      <td>ALBA VIVIANA GUTIERREZ VEGA</td>\n",
       "    </tr>\n",
       "    <tr>\n",
       "      <th>4</th>\n",
       "      <td>1</td>\n",
       "      <td>1</td>\n",
       "      <td>PT</td>\n",
       "      <td>RAFAEL CALDERON ZAMARRIPA</td>\n",
       "      <td>ANTONIO ALBERTO MARTINEZ RODRIGUEZ</td>\n",
       "    </tr>\n",
       "  </tbody>\n",
       "</table>\n",
       "</div>"
      ],
      "text/plain": [
       "   ESTADO  DISTRITO PARTIDO_CI           CANDIDATURA_PROPIETARIA  \\\n",
       "0       1         1        PAN    FRANCISCO JAVIER LUEVANO NUÑEZ   \n",
       "1       1         1        PRI             NORMA ESPARZA HERRERA   \n",
       "2       1         1        PRD    FRANCISCO JAVIER LUEVANO NUÑEZ   \n",
       "3       1         1       PVEM  SAMANTHA WENDOLYN REYES MARTÍNEZ   \n",
       "4       1         1         PT         RAFAEL CALDERON ZAMARRIPA   \n",
       "\n",
       "                 CANDIDATURA_SUPLENTE  \n",
       "0       GUSTAVO ARMENDARIZ VIRAMONTES  \n",
       "1              FABIOLA MEDINA DE LUNA  \n",
       "2       GUSTAVO ARMENDARIZ VIRAMONTES  \n",
       "3         ALBA VIVIANA GUTIERREZ VEGA  \n",
       "4  ANTONIO ALBERTO MARTINEZ RODRIGUEZ  "
      ]
     },
     "execution_count": 17,
     "metadata": {},
     "output_type": "execute_result"
    }
   ],
   "source": [
    "candidacies_2018_df.head()"
   ]
  },
  {
   "cell_type": "code",
   "execution_count": 18,
   "id": "988727c6",
   "metadata": {},
   "outputs": [
    {
     "name": "stdout",
     "output_type": "stream",
     "text": [
      "<class 'pandas.core.frame.DataFrame'>\n",
      "RangeIndex: 5570 entries, 0 to 5569\n",
      "Data columns (total 5 columns):\n",
      " #   Column                   Non-Null Count  Dtype \n",
      "---  ------                   --------------  ----- \n",
      " 0   ESTADO                   5570 non-null   int64 \n",
      " 1   DISTRITO                 5570 non-null   int64 \n",
      " 2   PARTIDO_CI               5570 non-null   object\n",
      " 3   CANDIDATURA_PROPIETARIA  5570 non-null   object\n",
      " 4   CANDIDATURA_SUPLENTE     5570 non-null   object\n",
      "dtypes: int64(2), object(3)\n",
      "memory usage: 217.7+ KB\n"
     ]
    }
   ],
   "source": [
    "candidacies_2018_df.info()"
   ]
  },
  {
   "cell_type": "markdown",
   "id": "906c384b",
   "metadata": {},
   "source": [
    "# 3. Data Preparation\n",
    "\n",
    "Clean data, aggregate results, and create dataframes with coalitions running per district, coalitions shared results, and final winner as basis for further analysis/evaluation."
   ]
  },
  {
   "cell_type": "markdown",
   "id": "a9d24fe1",
   "metadata": {},
   "source": [
    "## Candidacies\n",
    "\n",
    "Establish coalitions for each election cycle (as you can see, some parties switched their support or abandoned previous alliances) and get a dataframe per cycle indicating in which districts the coalitions ran (allied parties did not participate together in _every single district_)."
   ]
  },
  {
   "cell_type": "code",
   "execution_count": 19,
   "id": "aeebfe3d",
   "metadata": {},
   "outputs": [],
   "source": [
    "def get_coalitions(df, coalition_list):\n",
    "    \"\"\"Creates dataframe with each electoral district, indicating whether each coalition ran in that district\n",
    "    or the parties ran individually.\n",
    "\n",
    "    Args:\n",
    "        df: Dataframe containing candidates and their parties for each district.\n",
    "        coalition_list: List of lists containing each coalition participating, and their individual members.\n",
    "    Returns:\n",
    "        A dataframe with state and district ID, and a one hot encoding indicating whether each coalition participated in full.\n",
    "\n",
    "    \"\"\"\n",
    "\n",
    "    coalitions_df = df[df.PARTIDO_CI.isin(coalition_list)]\\\n",
    "                        .rename(columns={'PARTIDO_CI':'COALITION',\n",
    "                                        'ESTADO':'ID_ESTADO',\n",
    "                                        'DISTRITO':'ID_DISTRITO'})[['ID_ESTADO', 'ID_DISTRITO', 'COALITION']].drop_duplicates()\n",
    "\n",
    "    coalitions_df = pd.get_dummies(coalitions_df,\n",
    "                                   columns=['COALITION']).groupby(['ID_ESTADO', 'ID_DISTRITO'], as_index=False).sum()\n",
    "    \n",
    "    return coalitions_df"
   ]
  },
  {
   "cell_type": "code",
   "execution_count": 20,
   "id": "d53b6abe",
   "metadata": {},
   "outputs": [],
   "source": [
    "coalitions_2021_lists = [['PAN', 'PRI', 'PRD'], ['PVEM', 'PT', 'MORENA']]\n",
    "coalitions_2018_lists = [['PT', 'MORENA', 'PES'], ['PRI', 'PVEM', 'NA'], ['PAN', 'PRD', 'MC']]\n",
    "\n",
    "# Get Dataframe with info on which districts had alliances\n",
    "coalitions_2021_df = get_coalitions(candidacies_2021_df, ['_'.join(x) for x in coalitions_2021_lists])\n",
    "coalitions_2018_df = get_coalitions(candidacies_2018_df, ['_'.join(x) for x in coalitions_2018_lists])"
   ]
  },
  {
   "cell_type": "markdown",
   "id": "f7f9a192",
   "metadata": {},
   "source": [
    "## 2018 Results"
   ]
  },
  {
   "cell_type": "code",
   "execution_count": 21,
   "id": "6820cf6c",
   "metadata": {},
   "outputs": [],
   "source": [
    "# Preprocessing\n",
    "\n",
    "# Rename parties with initials\n",
    "results_2018_df.rename(columns={'ENCUENTRO SOCIAL':'PES',\n",
    "                                'MOVIMIENTO CIUDADANO':'MC',\n",
    "                                'NUEVA ALIANZA':'NA'}, inplace=True)\n",
    "\n",
    "# Reassign coaliton votes, as some voters have voted for individual parties in each coalition, \n",
    "# some just for one of the individual parties\n",
    "results_2018_df['PAN'] += results_2018_df['PAN_PRD_MC']/3 + results_2018_df['PAN_MC']/2 + results_2018_df['PAN_PRD']/2\n",
    "results_2018_df['PRI'] += results_2018_df['PRI_PVEM_NA']/3 + results_2018_df['PRI_PVEM']/2 + results_2018_df['PRI_NA']/2\n",
    "results_2018_df['PRD'] += results_2018_df['PAN_PRD_MC']/3 + results_2018_df['PRD_MC']/2 + results_2018_df['PAN_PRD']/2\n",
    "results_2018_df['PVEM'] += results_2018_df['PRI_PVEM_NA']/3 + results_2018_df['PRI_PVEM']/2 + results_2018_df['PVEM_NA']/2\n",
    "results_2018_df['PT'] += results_2018_df['PT_MORENA_PES']/3 + results_2018_df['PT_MORENA']/2 + results_2018_df['PT_PES']/2\n",
    "results_2018_df['MC'] += results_2018_df['PAN_PRD_MC']/3 + results_2018_df['PAN_MC']/2 + results_2018_df['PRD_MC']/2\n",
    "results_2018_df['NA'] += results_2018_df['PRI_PVEM_NA']/3 + results_2018_df['PVEM_NA']/2 + results_2018_df['PRI_NA']/2\n",
    "results_2018_df['MORENA'] += results_2018_df['PT_MORENA_PES']/3 + results_2018_df['PT_MORENA']/2 + \\\n",
    "                            results_2018_df['MORENA_PES']/2\n",
    "results_2018_df['PES'] += results_2018_df['PT_MORENA_PES']/3 + results_2018_df['PT_PES']/2 + results_2018_df['MORENA_PES']/2\n",
    "\n",
    "# Keep Relevant Columns\n",
    "results_2018_df = results_2018_df[['ID_ESTADO', 'NOMBRE_ESTADO', 'ID_DISTRITO', 'PAN', 'PRI', 'PRD', \n",
    "                                   'PVEM', 'PT', 'MC', 'NA', 'MORENA', 'PES', 'TOTAL_VOTOS_CALCULADOS']]\n",
    "\n",
    "# Eliminate precints, get results by district\n",
    "results_2018_df = results_2018_df.groupby(['ID_ESTADO', 'NOMBRE_ESTADO', 'ID_DISTRITO'], as_index=False).sum()"
   ]
  },
  {
   "cell_type": "code",
   "execution_count": 22,
   "id": "372e99e9",
   "metadata": {},
   "outputs": [],
   "source": [
    "def add_coalitions(results_df, coalitions_df, coalitions_lists):\n",
    "    \"\"\"Returns results_df adding coalition indicators from coalitions_df, and adding columns with vote results for each\n",
    "    coalition.\n",
    "\n",
    "    Args:\n",
    "        results_df: Dataframe containing parties' results for each district.\n",
    "        coalitions_df: Dataframe with state and district ID indicating whether each coalition participated in full.\n",
    "        coalition_list: List of lists containing each coalition participating, and their individual members.\n",
    "    Returns:\n",
    "        A dataframe vote results by district, with coalition participation indicators, and the coalitions' joint results.\n",
    "    \"\"\"\n",
    "\n",
    "\n",
    "    # Add Coalition\n",
    "    results_df = results_df.merge(coalitions_df, how='left').fillna(0)\n",
    "\n",
    "    # Add Coalition results\n",
    "    for coalition in coalitions_lists:\n",
    "        results_df['_'.join(coalition)] = results_df[coalition].sum(axis=1)\n",
    "    \n",
    "    return results_df"
   ]
  },
  {
   "cell_type": "code",
   "execution_count": 23,
   "id": "0fa57ba8",
   "metadata": {},
   "outputs": [],
   "source": [
    "# Add information on which alliances were valid for each district, as well as their combined vote share\n",
    "results_2018_df = add_coalitions(results_2018_df, coalitions_2018_df, coalitions_2018_lists)"
   ]
  },
  {
   "cell_type": "code",
   "execution_count": 24,
   "id": "6ca345e3",
   "metadata": {},
   "outputs": [],
   "source": [
    "def get_winners(df_, conditions, party_lists, winner_col = ['WINNER']):\n",
    "    \"\"\"Calculates each individual coalition or party winner per district with voting results.\n",
    "\n",
    "    Args:\n",
    "        df_: Dataframe with voting results per district, as well as columns indicating coalition participation.\n",
    "        conditions: List of conditions indicating potential scenarios where coalitions compete against each other \n",
    "                    or go at it alone.\n",
    "        party_lists: List of parties or coalitions to compare depending on each condition in conditions.\n",
    "        winner_col: List with column name for winners_df column. Default is \"WINNER\"\n",
    "    Returns:\n",
    "        A dataframe with voting results per state and district ID, as well as the coalition or party winner per district.\n",
    "\n",
    "    \"\"\"\n",
    "    \n",
    "    df = df_.copy()\n",
    "    \n",
    "    winner_results_list = []\n",
    "    \n",
    "    for condition, party_list in zip(conditions, party_lists):\n",
    "        winner_results_df = df[condition][party_list].apply(lambda s, n: pd.Series(s.nlargest(n).index), axis=1, n=1)\n",
    "        if not winner_results_df.empty:\n",
    "            winner_results_list.append(winner_results_df)\n",
    "\n",
    "    winners_df = pd.concat(winner_results_list).reindex(df_.index)\n",
    "    winners_df.columns = winner_col\n",
    "\n",
    "    full_df = df_.join(winners_df)\n",
    "    \n",
    "    return full_df"
   ]
  },
  {
   "cell_type": "code",
   "execution_count": 25,
   "id": "2d238640",
   "metadata": {},
   "outputs": [],
   "source": [
    "# Depending on which alliances were valid in each district, apply conditions to establish winner as the party (or coalition)\n",
    "# with the most votes in each district\n",
    "\n",
    "condition_1 = ((results_2018_df.COALITION_PAN_PRD_MC == 1) & (results_2018_df.COALITION_PT_MORENA_PES == 1) & \\\n",
    "               (results_2018_df.COALITION_PRI_PVEM_NA == 1))\n",
    "condition_2 = ((results_2018_df.COALITION_PAN_PRD_MC == 1) & (results_2018_df.COALITION_PT_MORENA_PES == 1) & \\\n",
    "               (results_2018_df.COALITION_PRI_PVEM_NA == 0))\n",
    "condition_3 = ((results_2018_df.COALITION_PAN_PRD_MC == 1) & (results_2018_df.COALITION_PT_MORENA_PES == 0) & \\\n",
    "               (results_2018_df.COALITION_PRI_PVEM_NA == 1))\n",
    "condition_4 = ((results_2018_df.COALITION_PAN_PRD_MC == 0) & (results_2018_df.COALITION_PT_MORENA_PES == 1) & \\\n",
    "               (results_2018_df.COALITION_PRI_PVEM_NA == 1))\n",
    "condition_5 = ((results_2018_df.COALITION_PAN_PRD_MC == 0) & (results_2018_df.COALITION_PT_MORENA_PES == 0) & \\\n",
    "               (results_2018_df.COALITION_PRI_PVEM_NA == 0))\n",
    "condition_6 = ((results_2018_df.COALITION_PAN_PRD_MC == 1) & (results_2018_df.COALITION_PT_MORENA_PES == 0) & \\\n",
    "               (results_2018_df.COALITION_PRI_PVEM_NA == 0))\n",
    "condition_7 = ((results_2018_df.COALITION_PAN_PRD_MC == 0) & (results_2018_df.COALITION_PT_MORENA_PES == 1) & \\\n",
    "               (results_2018_df.COALITION_PRI_PVEM_NA == 0))\n",
    "condition_8 = ((results_2018_df.COALITION_PAN_PRD_MC == 0) & (results_2018_df.COALITION_PT_MORENA_PES == 0) & \\\n",
    "               (results_2018_df.COALITION_PRI_PVEM_NA == 1))\n",
    "\n",
    "# Depending on conditions establishing which alliances were valid, only compare relevant parties to find winner\n",
    "party_list_1 = ['PAN_PRD_MC', 'PT_MORENA_PES', 'PRI_PVEM_NA'] # First example, all three alliances competed against each other\n",
    "party_list_2 = ['PAN_PRD_MC', 'PT_MORENA_PES', 'PRI', 'PVEM', 'NA']\n",
    "party_list_3 = ['PAN_PRD_MC', 'PRI_PVEM_NA', 'MORENA', 'PES', 'PT']\n",
    "party_list_4 = ['PRI_PVEM_NA', 'PT_MORENA_PES', 'PAN', 'PRD', 'MC']\n",
    "\n",
    "# Here (5), there were no alliances, and everyone ran against each other:\n",
    "party_list_5 = ['PAN', 'PRD', 'MC', 'PRI', 'PVEM', 'NA', 'MORENA', 'PES', 'PT']\n",
    "party_list_6 = ['PAN_PRD_MC', 'PRI', 'PVEM', 'NA', 'MORENA', 'PES', 'PT']\n",
    "party_list_7 = ['PAN', 'PRD', 'MC', 'PRI', 'PVEM', 'NA', 'PT_MORENA_PES']\n",
    "party_list_8 = ['PAN', 'PRD', 'MC', 'PRI_PVEM_NA', 'MORENA', 'PES', 'PT']\n",
    "\n",
    "conditions_2018 = [condition_1, condition_2, condition_3, condition_4, condition_5, condition_6, condition_7, condition_8]\n",
    "party_lists_2018 = [party_list_1, party_list_2, party_list_3, party_list_4, \n",
    "                    party_list_5, party_list_6, party_list_7, party_list_8]\n",
    "\n",
    "# Get winners per coalition - the function returns a df with Winner column indicating the winning party or coalition\n",
    "final_results_2018_df = get_winners(results_2018_df, conditions_2018, party_lists_2018)"
   ]
  },
  {
   "cell_type": "markdown",
   "id": "dfa2eb5a",
   "metadata": {},
   "source": [
    "## 2021 Results"
   ]
  },
  {
   "cell_type": "code",
   "execution_count": 26,
   "id": "7134ac8a",
   "metadata": {},
   "outputs": [],
   "source": [
    "# Keep relevant columns\n",
    "results_2021_df = results_2021_df[['ID_ESTADO', 'NOMBRE_ESTADO', 'ID_DISTRITO', 'PAN', 'PRI', 'PRD', 'PVEM', 'PT', 'MC', \n",
    "                                   'MORENA', 'PES', 'RSP', 'FXM', 'TOTAL_VOTOS_CALCULADOS']]\n",
    "\n",
    "# Add information on which alliances were valid for each district, as well as their combined vote share\n",
    "results_2021_df = add_coalitions(results_2021_df, coalitions_2021_df, coalitions_2021_lists)"
   ]
  },
  {
   "cell_type": "code",
   "execution_count": 27,
   "id": "9a5d2518",
   "metadata": {},
   "outputs": [],
   "source": [
    "# Depending on which alliances were valid in each district, apply conditions to establish winner as the party (or coalition)\n",
    "# with the most votes in each district\n",
    "\n",
    "condition_1 = ((results_2021_df.COALITION_PAN_PRI_PRD == 1) & (results_2021_df.COALITION_PVEM_PT_MORENA == 1))\n",
    "condition_2 = ((results_2021_df.COALITION_PAN_PRI_PRD == 1) & (results_2021_df.COALITION_PVEM_PT_MORENA == 0))\n",
    "condition_3 = ((results_2021_df.COALITION_PAN_PRI_PRD == 0) & (results_2021_df.COALITION_PVEM_PT_MORENA == 1))\n",
    "condition_4 = ((results_2021_df.COALITION_PAN_PRI_PRD == 0) & (results_2021_df.COALITION_PVEM_PT_MORENA == 0))\n",
    "\n",
    "party_list_1 = ['PAN_PRI_PRD', 'PVEM_PT_MORENA', 'MC', 'PES', 'RSP', 'FXM']\n",
    "party_list_2 = ['PVEM', 'PT', 'MC', 'MORENA', 'PAN_PRI_PRD', 'PES', 'RSP', 'FXM']\n",
    "party_list_3 = ['PAN', 'PRI', 'PRD', 'MC', 'PVEM_PT_MORENA', 'PES', 'RSP', 'FXM']\n",
    "party_list_4 = ['PAN', 'PRI', 'PRD', 'PVEM', 'PT', 'MC', 'MORENA', 'PES', 'RSP', 'FXM']\n",
    "\n",
    "conditions_2021 = [condition_1, condition_2, condition_3, condition_4]\n",
    "party_lists_2021 = [party_list_1, party_list_2, party_list_3, party_list_4]\n",
    "\n",
    "# Get winners per coalition - the function returns a df with Winner column indicating the winning party or coalition\n",
    "final_results_2021_df = get_winners(results_2021_df, conditions_2021, party_lists_2021)"
   ]
  },
  {
   "cell_type": "markdown",
   "id": "8692c530",
   "metadata": {},
   "source": [
    "# 4. Evaluating the Results"
   ]
  },
  {
   "cell_type": "markdown",
   "id": "a29251f8",
   "metadata": {},
   "source": [
    "## Question 1: What would have happened if all four opposition parties ran together against Morena in every one of the 300 FTPT districts?\n",
    "\n",
    "For the first question, I will create a new \"coalition\" combining the votes of the four opposition parties: PAN, PRD, PRI, MC. I will assume that they would run in together *every* district (which was not the case during the actual election even with the first three official allies), and that such an alliance would have resulted in the same number of votes, just added together."
   ]
  },
  {
   "cell_type": "code",
   "execution_count": 28,
   "id": "66e3486b",
   "metadata": {},
   "outputs": [],
   "source": [
    "# Get potential winner with united opposition\n",
    "\n",
    "# Add up results from PAN, PRI, PRD, and MC\n",
    "final_results_2021_df['OPPOSITION'] = final_results_2021_df[['PAN', 'PRI', 'PRD', 'MC']].sum(axis=1)\n",
    "\n",
    "# Compete against Morena coalition or exclusively Morena\n",
    "condition_1 = (final_results_2021_df.COALITION_PVEM_PT_MORENA == 1)\n",
    "condition_2 = (final_results_2021_df.COALITION_PVEM_PT_MORENA == 0)\n",
    "\n",
    "party_list_1 = ['OPPOSITION', 'PVEM_PT_MORENA']\n",
    "party_list_2 = ['PVEM', 'PT', 'MORENA', 'OPPOSITION']\n",
    "\n",
    "conditions_full_opp = [condition_1, condition_2]\n",
    "party_lists_full_opp = [party_list_1, party_list_2]\n",
    "\n",
    "# Get winners per coalition - the function returns a df with Potential Winner column indicating the winning party or coalition\n",
    "# under hypothetical scenario, for easy comparison to actual Winners in 2021\n",
    "final_results_2021_df = get_winners(final_results_2021_df, conditions_full_opp, \n",
    "                                   party_lists_full_opp, winner_col = ['POTENTIAL_WINNER'])\n",
    "\n",
    "# Retain relevante columns\n",
    "results_full_opp_2021_df = final_results_2021_df[['ID_ESTADO', 'NOMBRE_ESTADO', 'ID_DISTRITO', 'WINNER', 'POTENTIAL_WINNER']]\n",
    "\n",
    "# Rename for easy understanding: \n",
    "#           - PAN, PRI, PRD, and MC are the \"Opposition\"\n",
    "#           - MORENA, PT, and PVEM support the government's \"Fourth Transformation\", colloquially know as the \"4T\"\n",
    "\n",
    "results_full_opp_2021_df = results_full_opp_2021_df.replace({'PAN_PRI_PRD':'OPPOSITION',\n",
    "                                                             'PAN':'OPPOSITION',\n",
    "                                                             'PRD':'OPPOSITION',\n",
    "                                                             'PRI':'OPPOSITION',\n",
    "                                                             'MC':'OPPOSITION',\n",
    "                                                             'PVEM_PT_MORENA':'4T',\n",
    "                                                             'MORENA':'4T',\n",
    "                                                             'PVEM':'4T',\n",
    "                                                             'PT':'4T'})"
   ]
  },
  {
   "cell_type": "markdown",
   "id": "29cef9d3",
   "metadata": {},
   "source": [
    "### Results and Visualization for Q1"
   ]
  },
  {
   "cell_type": "code",
   "execution_count": 29,
   "id": "a543ff56",
   "metadata": {},
   "outputs": [
    {
     "data": {
      "text/plain": [
       "WINNER    \n",
       "4T            186\n",
       "OPPOSITION    114\n",
       "dtype: int64"
      ]
     },
     "execution_count": 29,
     "metadata": {},
     "output_type": "execute_result"
    }
   ],
   "source": [
    "# Actual Winners in 2021 - 4T (Morena and the gov's allies) won a large majority of the 300 FPTP districts\n",
    "results_full_opp_2021_df[['WINNER']].value_counts()"
   ]
  },
  {
   "cell_type": "code",
   "execution_count": 30,
   "id": "57aa4421",
   "metadata": {},
   "outputs": [
    {
     "data": {
      "text/plain": [
       "POTENTIAL_WINNER\n",
       "OPPOSITION          166\n",
       "4T                  134\n",
       "dtype: int64"
      ]
     },
     "execution_count": 30,
     "metadata": {},
     "output_type": "execute_result"
    }
   ],
   "source": [
    "# With a united opposition, the ruling party would have lost their majority of 300 FPTP districts\n",
    "results_full_opp_2021_df[['POTENTIAL_WINNER']].value_counts()"
   ]
  },
  {
   "cell_type": "code",
   "execution_count": 31,
   "id": "83fad4c5",
   "metadata": {},
   "outputs": [
    {
     "data": {
      "image/png": "[encoded data removed]",
      "text/plain": [
       "<Figure size 720x360 with 2 Axes>"
      ]
     },
     "metadata": {
      "needs_background": "light"
     },
     "output_type": "display_data"
    }
   ],
   "source": [
    "fig, ax = plt.subplots(1,2, figsize=(10,5), sharey=True)\n",
    "sns.countplot(x=results_full_opp_2021_df['WINNER'], ax=ax[0])\n",
    "sns.countplot(x=results_full_opp_2021_df['POTENTIAL_WINNER'], ax=ax[1])\n",
    "\n",
    "fig.suptitle('Seats Won in 2021', fontsize=15)\n",
    "\n",
    "ax[0].set(xlabel='Parties', ylabel='Seats', title='Divided Opposition')\n",
    "ax[1].set(xlabel='Parties', ylabel='', title='Hypothetical United Opposition');"
   ]
  },
  {
   "cell_type": "markdown",
   "id": "d91c7ded",
   "metadata": {},
   "source": [
    "### Q1 Conclusion\n",
    "\n",
    "Assuming the four main opposition parties had agreed to run together as a single coalition in every one of the 300 FTPT district, and gained the same number of votes as in the 2021 election (just added up together) they would've won 166 seats (an increase of 52 deputies) and effectively denied the 4T (Morena, PT, PVEM) from gaining a majority of these 300 districts.\n",
    "\n",
    "The actual composition of the full 500-member Chamber of Deputies is out of the scope of this project, as it would need a recomputation of the 200 proportional representation assignments to account for any over- or under-representation rules that would come into play. \n",
    "\n",
    "However, since these two results are mostly independent, [with \"parallel\" allocation](https://fruitsandvotes.wordpress.com/2021/06/11/mexico-2021/), we could assume that the PR assignment would be mostly unchanged from the actual election, [adding another 95 seats to the 4T and 105 to the Opposition](https://en.wikipedia.org/wiki/2021_Mexican_legislative_election#Results). **This hypothetical result would suggest that the Opposition would have gained control of the Chamber of Deputies** with 271 members, dethroning the ruling party and its allies."
   ]
  },
  {
   "cell_type": "markdown",
   "id": "8d432359",
   "metadata": {},
   "source": [
    "## Question 2: In which states did Morena lose or gain support in 2021 compared to the 2018 Chamber of Deputies election?\n",
    "\n",
    "For the second question, I will compare Morena's (an allies') change in vote share between 2018 and 2021 in each of the 32 two states of Mexico. The idea is to map out the percentage change and identify the states where Morena gained and lost most three years later."
   ]
  },
  {
   "cell_type": "code",
   "execution_count": 32,
   "id": "2cab01a9",
   "metadata": {},
   "outputs": [],
   "source": [
    "def get_morena_state_vote_share(df, coalition):\n",
    "    \"\"\"Calculates Morena's (and allies', if applicable) vote share, aggregating by state, from district voting results.\n",
    "\n",
    "    Args:\n",
    "        df: Dataframe with voting results per district, as well as columns indicating coalition participation.\n",
    "        coalition: String referencing the members of Morena's coalition separated by underscores.\n",
    "    Returns:\n",
    "        A dataframe aggregating Morena's vote share by state.\n",
    "\n",
    "    \"\"\"\n",
    "    \n",
    "    df['MORENA_VOTE'] = np.where(df[f'COALITION_{coalition}'] == 0,\n",
    "                                 df['MORENA'],\n",
    "                                 df[coalition])\n",
    "    \n",
    "    df = df.groupby(['ID_ESTADO', 'NOMBRE_ESTADO'], as_index=False).sum()[['ID_ESTADO', 'NOMBRE_ESTADO', \n",
    "                                                                           'MORENA_VOTE', 'TOTAL_VOTOS_CALCULADOS']]\n",
    "    \n",
    "    df['MORENA_VOTE_SHARE'] = df['MORENA_VOTE'] / df['TOTAL_VOTOS_CALCULADOS']\n",
    "    \n",
    "    return df[['ID_ESTADO', 'NOMBRE_ESTADO', 'MORENA_VOTE', 'MORENA_VOTE_SHARE']]"
   ]
  },
  {
   "cell_type": "code",
   "execution_count": 33,
   "id": "c8edcc53",
   "metadata": {},
   "outputs": [],
   "source": [
    "# Extract vote share of Morena (and allies, if applicable) in each state\n",
    "morena_results_2018_df = get_morena_state_vote_share(final_results_2018_df, 'PT_MORENA_PES')\n",
    "morena_results_2021_df = get_morena_state_vote_share(final_results_2021_df, 'PVEM_PT_MORENA')\n",
    "\n",
    "# Merge vote shares for 2018 and 2021, per state\n",
    "morena_results_df = morena_results_2018_df.merge(morena_results_2021_df, \n",
    "                                                 on=['ID_ESTADO', 'NOMBRE_ESTADO'], suffixes=('_2018', '_2021'))\n",
    "\n",
    "# Substract 2018 vote share from 2021 vote share to find difference\n",
    "morena_results_df['DIFF'] = morena_results_df['MORENA_VOTE_SHARE_2021'] - morena_results_df['MORENA_VOTE_SHARE_2018']\n",
    "morena_results_df['DIFF'] = morena_results_df['DIFF']*100"
   ]
  },
  {
   "cell_type": "markdown",
   "id": "cf465ba7",
   "metadata": {},
   "source": [
    "### Results and Visualization for Q2"
   ]
  },
  {
   "cell_type": "code",
   "execution_count": 34,
   "id": "b10dad52",
   "metadata": {},
   "outputs": [],
   "source": [
    "# Read shape file of Mexican states map\n",
    "map_df = gpd.read_file(\"data/Maps/destdv250k_2gw.shp\")\n",
    "map_df['NUM_EDO'] = pd.to_numeric(map_df['NUM_EDO'])\n",
    "\n",
    "# Join geopandas df with results\n",
    "map_vote_share_df = map_df.set_index('NUM_EDO').join(morena_results_df.set_index('ID_ESTADO'))"
   ]
  },
  {
   "cell_type": "code",
   "execution_count": 35,
   "id": "4de5525b",
   "metadata": {},
   "outputs": [
    {
     "data": {
      "image/png": "[encoded data removed]",
      "text/plain": [
       "<Figure size 864x432 with 2 Axes>"
      ]
     },
     "metadata": {},
     "output_type": "display_data"
    }
   ],
   "source": [
    "# Map the vote share change in each state\n",
    "sns.set_style('whitegrid')\n",
    "\n",
    "fig, ax = plt.subplots(figsize=(12, 6))\n",
    "map_vote_share_df.plot(column='DIFF',\n",
    "            cmap='coolwarm',\n",
    "            linewidth=0.9,\n",
    "            ax=ax,\n",
    "            edgecolor='1',\n",
    "            legend=True,\n",
    "            legend_kwds={'label': \"Vote Share Change (%)\"})\n",
    "\n",
    "fig.suptitle('Morena and Allies Vote Share Change - 2018 vs 2021\\nChamber of Deputies', fontsize=15)\n",
    "ax.set_axis_off()"
   ]
  },
  {
   "cell_type": "code",
   "execution_count": 36,
   "id": "b4634abd",
   "metadata": {},
   "outputs": [
    {
     "data": {
      "image/png": "[encoded data removed]",
      "text/plain": [
       "<Figure size 864x432 with 1 Axes>"
      ]
     },
     "metadata": {},
     "output_type": "display_data"
    }
   ],
   "source": [
    "# Plot the vote share change in each state in ascending order\n",
    "fig, ax = plt.subplots(figsize=(12, 6))\n",
    "\n",
    "sns.barplot(x='NOMBRE_ESTADO', y='DIFF', data=morena_results_df.sort_values('DIFF'), palette=\"vlag\", ax=ax)\n",
    "\n",
    "plt.xticks(rotation=70);\n",
    "\n",
    "fig.suptitle('Morena and Allies Vote Share Change - 2018 vs 2021\\nChamber of Deputies', fontsize=15)\n",
    "ax.set(xlabel='State', ylabel='Vote Share Change (%)');"
   ]
  },
  {
   "cell_type": "markdown",
   "id": "00a8a3c0",
   "metadata": {},
   "source": [
    "### Q2 Conclusion\n",
    "\n",
    "Morena's federal deputy candidates **lost over ten percent of their vote in the states of Colima, Tlaxcala, Baja California, Morelos, and Mexico City -- this last one being surprising, as the capital is a traditional stronghold for the left.**\n",
    "\n",
    "**In general, Morena performed worse than in the past election in 22 of the 32 of states.** This loss of support seems to have come primarily from northwestern states like the Baja Californias, as well as in some strongholds in the center and south, like Mexico City and Tabasco, were support in 2018 was already high. The party also lost some votes in states where the left has already underperformed, like Nuevo León, Querétaro, Aguascalientes, and Guanajuato.\n",
    "\n",
    "**Morena gained ground some states in the center and northeast of Mexico**, significantly increasing their support Chiapas, Tamaulipas, and San Luis Potosí -- the last one surpassing a 10% increase in vote share."
   ]
  },
  {
   "cell_type": "markdown",
   "id": "58600517",
   "metadata": {},
   "source": [
    "## Question 3: Did parties benefit in 2021 from the new reelection rules by renominating incumbents compared to their results in open seats?\n",
    "\n",
    "For the third question, I will identify which incumbent deputies ran for reelection in 2021, and compare success of their parties in retaining their seats against open seats with no incumbents running."
   ]
  },
  {
   "cell_type": "code",
   "execution_count": 37,
   "id": "d750eb49",
   "metadata": {},
   "outputs": [],
   "source": [
    "def get_elected_deputies(candidacies_df, final_results_df):\n",
    "    \n",
    "    \"\"\"Creates dataframe with candidates, their party/coalition, and whether they won or lost their election.\n",
    "\n",
    "    Args:\n",
    "        candidacies_df: Dataframe containing candidates and their parties for each district.\n",
    "        final_results_df: A dataframe with voting results per state and district ID, as well as the coalition or \n",
    "                          party winner per district.\n",
    "    Returns:\n",
    "        A dataframe listing candidates per district/state, their final party/coalition, and whether they won or \n",
    "        lost their election.\n",
    "\n",
    "    \"\"\"\n",
    "    \n",
    "    candidacies_df.replace({'NUEVA ALIANZA':'NA',\n",
    "                            'MOVIMIENTO CIUDADANO':'MC'}, inplace=True)\n",
    "    \n",
    "    candidacies_df['PARTIDO_CI'] = pd.Categorical(candidacies_df['PARTIDO_CI'], \n",
    "                                                   ['PRI_PVEM_NA', 'PAN_PRD_MC','PT_MORENA_PES', 'PVEM_PT_MORENA', \n",
    "                                                    'PAN_PRI_PRD', 'PAN', 'PRI', 'PRD', 'PVEM', 'PT', 'MC',  'MORENA', \n",
    "                                                    'PES', 'NA', 'RSPPPN', \"FS X MÉXICO\"])\n",
    "    \n",
    "    ind_cand_df = candidacies_df.sort_values(['ESTADO', 'DISTRITO', 'PARTIDO_CI']).drop_duplicates(['ESTADO', \n",
    "                                                                                                    'DISTRITO', \n",
    "                                                                                                    'CANDIDATURA_PROPIETARIA'])\n",
    "    \n",
    "    ind_cand_df.rename(columns={'ESTADO':'ID_ESTADO', 'DISTRITO':'ID_DISTRITO'}, inplace=True)\n",
    "    \n",
    "    ind_cand_df = ind_cand_df[['ID_ESTADO', 'ID_DISTRITO', 'PARTIDO_CI', 'CANDIDATURA_PROPIETARIA']]\n",
    "    ind_cand_df['PARTIDO_CI'] = ind_cand_df['PARTIDO_CI'].str.strip()\n",
    "    \n",
    "    winners_df = final_results_df[['ID_ESTADO', 'ID_DISTRITO', 'WINNER']]\n",
    "    winners_df.rename(columns={'WINNER':'PARTIDO_CI'}, inplace=True)\n",
    "    winners_df['WON'] = True\n",
    "    winners_df['PARTIDO_CI'] = winners_df['PARTIDO_CI'].str.strip()\n",
    "\n",
    "    winners_df = ind_cand_df.merge(winners_df, how='left', on=['ID_ESTADO', 'ID_DISTRITO', 'PARTIDO_CI']).fillna(False)\n",
    "    winners_df['PARTIES'] = winners_df.PARTIDO_CI.str.split('_')\n",
    "\n",
    "    \n",
    "    return winners_df   "
   ]
  },
  {
   "cell_type": "code",
   "execution_count": 38,
   "id": "8ccb431b",
   "metadata": {},
   "outputs": [],
   "source": [
    "# Get dataframe with candidates, their party/coalition, and whether they won or lost their election\n",
    "winners_2021_df = get_elected_deputies(candidacies_2021_df, final_results_2021_df)\n",
    "winners_2018_df = get_elected_deputies(candidacies_2018_df, final_results_2018_df)"
   ]
  },
  {
   "cell_type": "code",
   "execution_count": 39,
   "id": "f0c03340",
   "metadata": {},
   "outputs": [],
   "source": [
    "# Merge 2018 and 2021 winners by district\n",
    "winning_parties_df = winners_2018_df.query('WON == True').merge(winners_2021_df.query('WON == True'), \n",
    "                                                                on=['ID_ESTADO', 'ID_DISTRITO'], suffixes=('_2018', '_2021'))\n",
    "\n",
    "# Check whether the incumbent party one their election (any within the original coaltion vs 2021 coalition/party)\n",
    "winning_parties_df['INCUMBENT_PARTY_WON'] = [any(x in a for x in b) for a, b in zip(winning_parties_df['PARTIES_2018'], \\\n",
    "                                                                                  winning_parties_df['PARTIES_2021'])]\n",
    "\n",
    "# Check if the incumbent deputy won reelection in 2021\n",
    "winning_parties_df['INCUMBENT_WON'] = winning_parties_df['CANDIDATURA_PROPIETARIA_2018'] == \\\n",
    "                                      winning_parties_df['CANDIDATURA_PROPIETARIA_2021']"
   ]
  },
  {
   "cell_type": "code",
   "execution_count": 41,
   "id": "eef93ea8",
   "metadata": {},
   "outputs": [],
   "source": [
    "# Add in candidates for 2021 in case the incumbent ran but lost reelection\n",
    "winners_2021_df['INCUMBENT_RAN'] = True\n",
    "winners_2021_df.rename(columns={'CANDIDATURA_PROPIETARIA':'CANDIDATURA_PROPIETARIA_2018',\n",
    "                                'PARTIES':'RENOMINATED_PARTIES'}, inplace=True)\n",
    "\n",
    "# Add column that establishes if incumbent ran for reelection by merging 2021 on 2018 winner\n",
    "winning_parties_df = winning_parties_df.merge(winners_2021_df[['ID_ESTADO', \n",
    "                                                               'ID_DISTRITO', \n",
    "                                                               'CANDIDATURA_PROPIETARIA_2018',\n",
    "                                                               'RENOMINATED_PARTIES',\n",
    "                                                               'INCUMBENT_RAN']], how='left')\n",
    "\n",
    "winning_parties_df['INCUMBENT_RAN'] = winning_parties_df['INCUMBENT_RAN'].fillna(False)"
   ]
  },
  {
   "cell_type": "code",
   "execution_count": 42,
   "id": "3c70a6e2",
   "metadata": {},
   "outputs": [],
   "source": [
    "# Make sure incumbent running for reelection was renominated by at least on the original parties they ran under in 2018\n",
    "# This will identify incumbents who ran for reelection after changing parties\n",
    "winning_parties_df['RENOMINATED_PARTIES'] = winning_parties_df['RENOMINATED_PARTIES'].fillna(\"\").apply(list)\n",
    "winning_parties_df['INCUMBENT_PARTY_RENOMINATED'] = [any(x in a for x in b) for a, b in \\\n",
    "                                                     zip(winning_parties_df['PARTIES_2018'], \\\n",
    "                                                         winning_parties_df['RENOMINATED_PARTIES'])]"
   ]
  },
  {
   "cell_type": "markdown",
   "id": "49ed9c19",
   "metadata": {},
   "source": [
    "### Results and Visualization for Q3"
   ]
  },
  {
   "cell_type": "code",
   "execution_count": 43,
   "id": "995e355f",
   "metadata": {},
   "outputs": [
    {
     "data": {
      "text/plain": [
       "True     0.730159\n",
       "False    0.269841\n",
       "Name: INCUMBENT_PARTY_WON, dtype: float64"
      ]
     },
     "execution_count": 43,
     "metadata": {},
     "output_type": "execute_result"
    }
   ],
   "source": [
    "winning_parties_df.query('INCUMBENT_RAN == True & INCUMBENT_PARTY_RENOMINATED == True') \\\n",
    "                  .INCUMBENT_PARTY_WON.value_counts(normalize=True)"
   ]
  },
  {
   "cell_type": "code",
   "execution_count": 44,
   "id": "b22290ea",
   "metadata": {},
   "outputs": [
    {
     "data": {
      "text/plain": [
       "True     0.784884\n",
       "False    0.215116\n",
       "Name: INCUMBENT_PARTY_WON, dtype: float64"
      ]
     },
     "execution_count": 44,
     "metadata": {},
     "output_type": "execute_result"
    }
   ],
   "source": [
    "winning_parties_df.query('INCUMBENT_RAN == False').INCUMBENT_PARTY_WON.value_counts(normalize=True)"
   ]
  },
  {
   "cell_type": "code",
   "execution_count": 45,
   "id": "197a2724",
   "metadata": {},
   "outputs": [
    {
     "data": {
      "image/png": "[encoded data removed]",
      "text/plain": [
       "<Figure size 864x360 with 2 Axes>"
      ]
     },
     "metadata": {},
     "output_type": "display_data"
    }
   ],
   "source": [
    "fig, ax = plt.subplots(1, 2, figsize=(12,5), sharey=True)\n",
    "winning_parties_df.query('INCUMBENT_RAN == True & INCUMBENT_PARTY_RENOMINATED == True') \\\n",
    "                  .INCUMBENT_PARTY_WON.value_counts(normalize=True).plot(kind='bar', ax=ax[0])\n",
    "\n",
    "winning_parties_df.query('INCUMBENT_RAN == False').INCUMBENT_PARTY_WON.value_counts(normalize=True).plot(kind='bar', ax=ax[1])\n",
    "\n",
    "fig.suptitle('Incumbent Party Reelection', fontsize=15)\n",
    "\n",
    "ax[0].set_title('Incumbent Renominated and Running')\n",
    "ax[1].set_title('Open Seats')\n",
    "\n",
    "ax[0].set(xlabel='Incumbent Party Wins Reelection', ylabel='Seats (%)')\n",
    "ax[1].set(xlabel='Incumbent Party Wins Reelection');"
   ]
  },
  {
   "cell_type": "markdown",
   "id": "2d4c1f8c",
   "metadata": {},
   "source": [
    "### Q2 Conclusion\n",
    "\n",
    "**There seems to be a ver little difference between party results in districts where an incumbent was renominated and ran, and in open seats. Incumbents had a 73% rate of success for their parties, whereas incumbent parties held onto to about 78% of open seats.**\n",
    "\n",
    "Most incumbents were not renominated for reelection, with only 43% running, even [though almost 90% of the federal deputies registered to run again](https://politica.expansion.mx/congreso/2021/01/05/voces-448-diputados-buscan-reelegirse-en-2021)--this might skew the results. Also, some parties changed alliances (like the PVEM joining Morena, MC deciding to participate alone, and PAN and PRI running together), which affects which party is considered an incumbent. Lastly, this is the first time incumbent deputies are allowed to run for reelection, so voters are not used to consider such scenarios.\n",
    "\n",
    "Right now, it does not seem like there is any sort of incumbency advantage compared to the partisanship of the district -- **in fact, incumbents running lost a larger share of seats for their parties than in those where new candidates were nominated.** It might be interesting to revisit this for the 2024 election, where some deputies will be running for their third consecutive term and might establish stronger support in their home districts.\n",
    "\n",
    "Something else to consider would be using parlamentary group membership data to assign party incumbency, rather than which party/coalition originally nominated the incumbent, to account for party changes/unreliable coaliton support to create more precise results (this data was not available in the datasets used)."
   ]
  }
 ],
 "metadata": {
  "kernelspec": {
   "display_name": "Python 3 (ipykernel)",
   "language": "python",
   "name": "python3"
  },
  "language_info": {
   "codemirror_mode": {
    "name": "ipython",
    "version": 3
   },
   "file_extension": ".py",
   "mimetype": "text/x-python",
   "name": "python",
   "nbconvert_exporter": "python",
   "pygments_lexer": "ipython3",
   "version": "3.10.4"
  }
 },
 "nbformat": 4,
 "nbformat_minor": 5
}
